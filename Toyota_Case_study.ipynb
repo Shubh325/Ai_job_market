{
  "nbformat": 4,
  "nbformat_minor": 0,
  "metadata": {
    "colab": {
      "private_outputs": true,
      "provenance": [],
      "authorship_tag": "ABX9TyOaDqAOrUFdWdOgBmbKqyh9",
      "include_colab_link": true
    },
    "kernelspec": {
      "name": "python3",
      "display_name": "Python 3"
    },
    "language_info": {
      "name": "python"
    }
  },
  "cells": [
    {
      "cell_type": "markdown",
      "metadata": {
        "id": "view-in-github",
        "colab_type": "text"
      },
      "source": [
        "<a href=\"https://colab.research.google.com/github/Shubh325/Ai_job_market/blob/main/Toyota_Case_study.ipynb\" target=\"_parent\"><img src=\"https://colab.research.google.com/assets/colab-badge.svg\" alt=\"Open In Colab\"/></a>"
      ]
    },
    {
      "cell_type": "markdown",
      "source": [
        "# **⚛ Import Needed Libraries ⚛**\n",
        "\n"
      ],
      "metadata": {
        "id": "bDry_D6qU1qN"
      }
    },
    {
      "cell_type": "code",
      "execution_count": null,
      "metadata": {
        "id": "B8xqod3_TwvX"
      },
      "outputs": [],
      "source": [
        "import pandas as pd\n",
        "import numpy as np\n",
        "import matplotlib.pyplot as plt\n",
        "import seaborn as sns\n",
        "import warnings\n",
        "warnings.filterwarnings(\"ignore\")"
      ]
    },
    {
      "cell_type": "markdown",
      "source": [
        "# **⚛ Exploring the Data ⚛**"
      ],
      "metadata": {
        "id": "wspfFPvrU7UF"
      }
    },
    {
      "cell_type": "code",
      "source": [
        "Toyota=pd.read_csv(\"/content/Toyota (1).csv\")\n",
        "Toyota.head()"
      ],
      "metadata": {
        "id": "qz_iCCpqUMMN"
      },
      "execution_count": null,
      "outputs": []
    },
    {
      "cell_type": "code",
      "source": [
        "Toyota=pd.read_csv(\"/content/Toyota (1).csv\",index_col=0)\n",
        "Toyota.head()"
      ],
      "metadata": {
        "id": "wqjy5R6hUX-F"
      },
      "execution_count": null,
      "outputs": []
    },
    {
      "cell_type": "markdown",
      "source": [
        "# **✴ Copy to the original dataset ✴**\n",
        "\n"
      ],
      "metadata": {
        "id": "1fDs8ghkUfqV"
      }
    },
    {
      "cell_type": "code",
      "source": [
        "Toyota1=Toyota.copy()"
      ],
      "metadata": {
        "id": "FzOs9qlcUkvl"
      },
      "execution_count": null,
      "outputs": []
    },
    {
      "cell_type": "code",
      "source": [
        "# Check to the information\n",
        "Toyota1.info()"
      ],
      "metadata": {
        "id": "JMdhd5bIUrol"
      },
      "execution_count": null,
      "outputs": []
    },
    {
      "cell_type": "code",
      "source": [
        "# Conclusion = info()\n",
        "\"\"\"\n",
        "-> The data in  rows-1436 and totole 10-columns.\n",
        "-> The data type of each column.\n",
        "-> The count of non-null (valid) entries per column.\n",
        "-> Memory usage of the DataFrame.\n",
        "\n",
        "\"\"\""
      ],
      "metadata": {
        "id": "WsbIeUJNVONv"
      },
      "execution_count": null,
      "outputs": []
    },
    {
      "cell_type": "code",
      "source": [
        "# Check the head data\n",
        "Toyota1.head()"
      ],
      "metadata": {
        "id": "LFJ69JLRUvO1"
      },
      "execution_count": null,
      "outputs": []
    },
    {
      "cell_type": "code",
      "source": [
        "# Check the tail data\n",
        "Toyota1.tail()"
      ],
      "metadata": {
        "id": "2h4bpsVwVdvs"
      },
      "execution_count": null,
      "outputs": []
    },
    {
      "cell_type": "code",
      "source": [
        "# check to shape\n",
        "Toyota1.shape"
      ],
      "metadata": {
        "id": "xEb68mu5VuLF"
      },
      "execution_count": null,
      "outputs": []
    },
    {
      "cell_type": "code",
      "source": [
        "# check the size\n",
        "Toyota1.size"
      ],
      "metadata": {
        "id": "vvIkg9DVVvhE"
      },
      "execution_count": null,
      "outputs": []
    },
    {
      "cell_type": "code",
      "source": [
        "# check the total columns\n",
        "Toyota.columns"
      ],
      "metadata": {
        "id": "OYyGysKXV1QN"
      },
      "execution_count": null,
      "outputs": []
    },
    {
      "cell_type": "code",
      "source": [
        "# Check the datatype\n",
        "Toyota1.dtypes"
      ],
      "metadata": {
        "id": "QKObzWleV57c"
      },
      "execution_count": null,
      "outputs": []
    },
    {
      "cell_type": "code",
      "source": [
        "#describe the dataset\n",
        "Toyota1.describe()"
      ],
      "metadata": {
        "id": "GN_S9OBaV8kk"
      },
      "execution_count": null,
      "outputs": []
    },
    {
      "cell_type": "markdown",
      "source": [
        "# **Check the datatype and fill the null values**"
      ],
      "metadata": {
        "id": "EYoeoVAEWgxt"
      }
    },
    {
      "cell_type": "code",
      "source": [
        "Toyota1.dtypes.value_counts()"
      ],
      "metadata": {
        "id": "guofyiohWSjN"
      },
      "execution_count": null,
      "outputs": []
    },
    {
      "cell_type": "code",
      "source": [
        "Toyota1.select_dtypes(exclude=[\"O\"])"
      ],
      "metadata": {
        "id": "nBFaZSMrWorc"
      },
      "execution_count": null,
      "outputs": []
    },
    {
      "cell_type": "code",
      "source": [
        "Toyota1.select_dtypes(include=[\"O\"])"
      ],
      "metadata": {
        "id": "z0n_rg-JWqZs"
      },
      "execution_count": null,
      "outputs": []
    },
    {
      "cell_type": "code",
      "source": [
        "Toyota1.loc[:,\"Price\"]"
      ],
      "metadata": {
        "id": "ZN3CuD1JWvGU"
      },
      "execution_count": null,
      "outputs": []
    },
    {
      "cell_type": "code",
      "source": [
        "Toyota1.at[1,\"Age\"]"
      ],
      "metadata": {
        "id": "ktUDb9huWz0M"
      },
      "execution_count": null,
      "outputs": []
    },
    {
      "cell_type": "code",
      "source": [
        "Toyota1.iat[8,7]"
      ],
      "metadata": {
        "id": "7nbunM5hXU3E"
      },
      "execution_count": null,
      "outputs": []
    },
    {
      "cell_type": "code",
      "source": [
        "print(np.unique(Toyota1[\"KM\"]))"
      ],
      "metadata": {
        "id": "8vWX7O_jXar8"
      },
      "execution_count": null,
      "outputs": []
    },
    {
      "cell_type": "code",
      "source": [
        "print(np.unique(Toyota1[\"HP\"]))"
      ],
      "metadata": {
        "id": "w9jOnKeCXfx0"
      },
      "execution_count": null,
      "outputs": []
    },
    {
      "cell_type": "code",
      "source": [
        "print(np.unique(Toyota1[\"Doors\"]))"
      ],
      "metadata": {
        "id": "H9KJG-sUXkt0"
      },
      "execution_count": null,
      "outputs": []
    },
    {
      "cell_type": "code",
      "source": [
        "Toyota1=pd.read_csv(\"/content/Toyota (1).csv\",na_values=[\"??\",\"????\"])"
      ],
      "metadata": {
        "id": "DcIV6eyOXob8"
      },
      "execution_count": null,
      "outputs": []
    },
    {
      "cell_type": "code",
      "source": [
        "Toyota1.select_dtypes(exclude=[\"O\"])"
      ],
      "metadata": {
        "id": "_qEMWRtnXv2j"
      },
      "execution_count": null,
      "outputs": []
    },
    {
      "cell_type": "code",
      "source": [
        "Toyota1[\"MetColor\"]=Toyota1[\"MetColor\"].astype(\"O\")"
      ],
      "metadata": {
        "id": "eI_86u28X4ok"
      },
      "execution_count": null,
      "outputs": []
    },
    {
      "cell_type": "code",
      "source": [
        "Toyota1[\"Doors\"].replace(\"three\",3,inplace=True)\n",
        "Toyota1[\"Doors\"].replace(\"four\",4,inplace=True)\n",
        "Toyota1[\"Doors\"].replace(\"five\",5,inplace=True)\n",
        "Toyota1.select_dtypes(include=[\"O\"])"
      ],
      "metadata": {
        "id": "1binrA5RcPxK"
      },
      "execution_count": null,
      "outputs": []
    },
    {
      "cell_type": "code",
      "source": [
        "Toyota1[\"Doors\"]=Toyota1[\"Doors\"].astype(\"int64\")"
      ],
      "metadata": {
        "id": "8j6v6FOVckxt"
      },
      "execution_count": null,
      "outputs": []
    },
    {
      "cell_type": "code",
      "source": [
        "Toyota1.select_dtypes(include=[\"O\"])"
      ],
      "metadata": {
        "id": "4QS9XO_Jcphz"
      },
      "execution_count": null,
      "outputs": []
    },
    {
      "cell_type": "markdown",
      "source": [
        "# **Dealing With Missing Values**"
      ],
      "metadata": {
        "id": "RnJWgClDcuKT"
      }
    },
    {
      "cell_type": "code",
      "source": [
        "Toyota1.isna().sum()"
      ],
      "metadata": {
        "id": "5rAaLPRucvur"
      },
      "execution_count": null,
      "outputs": []
    },
    {
      "cell_type": "code",
      "source": [
        "Toyota1[\"Age\"].mean()"
      ],
      "metadata": {
        "id": "7HYLYGrJc3cz"
      },
      "execution_count": null,
      "outputs": []
    },
    {
      "cell_type": "code",
      "source": [
        "Toyota1[\"Age\"].fillna(Toyota1[\"Age\"].mean(),inplace=True)\n"
      ],
      "metadata": {
        "id": "LkFgBdAwc5wq"
      },
      "execution_count": null,
      "outputs": []
    },
    {
      "cell_type": "code",
      "source": [
        "Toyota1[\"KM\"].median()"
      ],
      "metadata": {
        "id": "V_eVIU76c9sT"
      },
      "execution_count": null,
      "outputs": []
    },
    {
      "cell_type": "code",
      "source": [
        "Toyota1[\"KM\"].fillna(Toyota1[\"KM\"].median(),inplace=True)\n"
      ],
      "metadata": {
        "id": "mKjN1de0dHxU"
      },
      "execution_count": null,
      "outputs": []
    },
    {
      "cell_type": "code",
      "source": [
        "Toyota1[\"HP\"].mean()\n"
      ],
      "metadata": {
        "id": "WF6nhfINdPnb"
      },
      "execution_count": null,
      "outputs": []
    },
    {
      "cell_type": "code",
      "source": [
        "Toyota1[\"HP\"].fillna(Toyota1[\"HP\"].mean(),inplace=True)\n"
      ],
      "metadata": {
        "id": "gY_H3hNEdRQ7"
      },
      "execution_count": null,
      "outputs": []
    },
    {
      "cell_type": "code",
      "source": [
        "Toyota1[\"FuelType\"].value_counts()"
      ],
      "metadata": {
        "id": "IEJabb2HdTEj"
      },
      "execution_count": null,
      "outputs": []
    },
    {
      "cell_type": "code",
      "source": [
        "Toyota1[\"FuelType\"].value_counts().index[0]"
      ],
      "metadata": {
        "id": "iMKatkXJdqX7"
      },
      "execution_count": null,
      "outputs": []
    },
    {
      "cell_type": "code",
      "source": [
        "Toyota1[\"FuelType\"].fillna(Toyota1[\"FuelType\"].value_counts().index[0],inplace=True)"
      ],
      "metadata": {
        "id": "E9mDUTMRduWr"
      },
      "execution_count": null,
      "outputs": []
    },
    {
      "cell_type": "code",
      "source": [
        "Toyota1.isnull().sum()"
      ],
      "metadata": {
        "id": "KExjYaa6dzpz"
      },
      "execution_count": null,
      "outputs": []
    },
    {
      "cell_type": "code",
      "source": [
        "Toyota1[\"MetColor\"].mode()"
      ],
      "metadata": {
        "id": "jkUI8uYwd4xK"
      },
      "execution_count": null,
      "outputs": []
    },
    {
      "cell_type": "code",
      "source": [
        "Toyota1[\"MetColor\"].fillna(Toyota1[\"MetColor\"].mode()[0],inplace=True)"
      ],
      "metadata": {
        "id": "C2Hf9kMNd7HD"
      },
      "execution_count": null,
      "outputs": []
    },
    {
      "cell_type": "code",
      "source": [
        "Toyota1.isnull().sum()"
      ],
      "metadata": {
        "id": "2aX36ifMeLbM"
      },
      "execution_count": null,
      "outputs": []
    },
    {
      "cell_type": "markdown",
      "source": [
        "# Conclusion:-\n",
        "\n",
        "From Inspection of Data it is clear that raw data consist of total 1436 rows & 11 columns.There are some columns like KM,HP & Doors shows as object because of some special character present in that like in KM & HP columns and presence of Categorical cells present in Doors column respectively. After Complete understanding of data the all NAN cells in all required Columns are filled with appropriate Statistical Operations like mean,median & mode.Now the data is ready for Visualization."
      ],
      "metadata": {
        "id": "rIl5zXDueRvb"
      }
    },
    {
      "cell_type": "markdown",
      "source": [
        "# **Data Visualization**"
      ],
      "metadata": {
        "id": "_UPnp-y3ebq7"
      }
    },
    {
      "cell_type": "code",
      "source": [
        "plt.scatter(Toyota1[\"Age\"],Toyota1[\"Price\"],c=\"red\")\n",
        "plt.title(\"Price Vs Age of the Car\")\n",
        "plt.xlabel(\"Age of the Car\")\n",
        "plt.ylabel(\"Price of the Car\")"
      ],
      "metadata": {
        "id": "kPrjojd3eZTr"
      },
      "execution_count": null,
      "outputs": []
    },
    {
      "cell_type": "code",
      "source": [
        "plt.hist(Toyota1[\"KM\"],color=\"blue\",edgecolor=\"white\",bins=5)\n",
        "plt.title(\"Histogram of Kilometer\")\n",
        "plt.xlabel(\"KM\")\n",
        "plt.ylabel(\"Frequency\")\n",
        "plt.show()"
      ],
      "metadata": {
        "id": "6BxoDoBOemqr"
      },
      "execution_count": null,
      "outputs": []
    },
    {
      "cell_type": "code",
      "source": [
        "Toyota1[\"FuelType\"].value_counts()"
      ],
      "metadata": {
        "id": "3yLDCLI4evQi"
      },
      "execution_count": null,
      "outputs": []
    },
    {
      "cell_type": "code",
      "source": [
        "counts=[1277,144,15]\n",
        "FuelType=(\"Petrol\",\"Diesel\",\"CNG\")\n",
        "index=np.arange(len(FuelType))\n",
        "plt.bar(index,counts,color=[\"red\",\"blue\",\"green\"])\n",
        "plt.title(\"Bar Plot of Fuel Types\")\n",
        "plt.xlabel(\"FuelType\")\n",
        "plt.ylabel(\"Frequency\")\n",
        "plt.xticks(index,FuelType,rotation=90)\n",
        "plt.show()"
      ],
      "metadata": {
        "id": "vgrnmVLne1mp"
      },
      "execution_count": null,
      "outputs": []
    },
    {
      "cell_type": "code",
      "source": [
        "sns.set(style=\"darkgrid\")\n",
        "sns.regplot(x=Toyota1[\"Age\"],y=Toyota1[\"Price\"])"
      ],
      "metadata": {
        "id": "xZh3sWf9e9Ci"
      },
      "execution_count": null,
      "outputs": []
    },
    {
      "cell_type": "code",
      "source": [
        "sns.regplot(x=Toyota1[\"Age\"],y=Toyota1['Price'],marker=\"*\",fit_reg=\"False\")"
      ],
      "metadata": {
        "id": "56xZIl1NfHqK"
      },
      "execution_count": null,
      "outputs": []
    },
    {
      "cell_type": "code",
      "source": [
        "sns.distplot(Toyota1[\"Age\"])"
      ],
      "metadata": {
        "id": "lm0klwSIfRiS"
      },
      "execution_count": null,
      "outputs": []
    },
    {
      "cell_type": "code",
      "source": [
        "sns.distplot(Toyota1[\"Age\"],kde=False)"
      ],
      "metadata": {
        "id": "IORus6MqfV4C"
      },
      "execution_count": null,
      "outputs": []
    },
    {
      "cell_type": "code",
      "source": [
        "sns.distplot(Toyota1[\"Age\"],kde=False,bins=5)"
      ],
      "metadata": {
        "id": "tpM0rDrFfaJi"
      },
      "execution_count": null,
      "outputs": []
    },
    {
      "cell_type": "code",
      "source": [
        "sns.lmplot(x=\"Age\",y=\"Price\",data=Toyota1,fit_reg=False,hue=\"FuelType\",legend=True)"
      ],
      "metadata": {
        "id": "COPmyj_PfcKK"
      },
      "execution_count": null,
      "outputs": []
    },
    {
      "cell_type": "code",
      "source": [
        "sns.countplot(x=\"FuelType\",data=Toyota1)"
      ],
      "metadata": {
        "id": "zyEROmjnfjDq"
      },
      "execution_count": null,
      "outputs": []
    },
    {
      "cell_type": "code",
      "source": [
        "sns.countplot(x=\"FuelType\",data=Toyota1,hue=\"Automatic\")"
      ],
      "metadata": {
        "id": "dfihaLh8fklp"
      },
      "execution_count": null,
      "outputs": []
    },
    {
      "cell_type": "code",
      "source": [
        "sns.boxplot(y=Toyota1[\"Price\"])"
      ],
      "metadata": {
        "id": "oGkKy9d2fthy"
      },
      "execution_count": null,
      "outputs": []
    },
    {
      "cell_type": "code",
      "source": [
        "sns.boxplot(x=Toyota1[\"FuelType\"],y=Toyota1[\"Price\"])"
      ],
      "metadata": {
        "id": "09l-rx_PfxBa"
      },
      "execution_count": null,
      "outputs": []
    },
    {
      "cell_type": "code",
      "source": [
        "sns.boxplot(x=Toyota1[\"FuelType\"],y=Toyota1[\"Price\"],hue=\"Automatic\",data=Toyota1)"
      ],
      "metadata": {
        "id": "ab3Ja76Uf2qa"
      },
      "execution_count": null,
      "outputs": []
    },
    {
      "cell_type": "code",
      "source": [
        "sns.pairplot(Toyota1,kind=\"scatter\",hue=\"FuelType\")\n",
        "plt.show()"
      ],
      "metadata": {
        "id": "WXu539exf5yR"
      },
      "execution_count": null,
      "outputs": []
    },
    {
      "cell_type": "markdown",
      "source": [
        "Observations:-\n",
        "\n",
        "1.Age of Cars increses Price Comes down.\n",
        "\n",
        "2.Most of the cars were run in between 50,000 to 100000 KM.\n",
        "\n",
        "3.Most of the cars are having petrol as a FuelType.\n",
        "\n",
        "4.Most of the cars old, Falls between 70-80 of Age.\n",
        "\n",
        "5.Diesel Cars are having both highest & lowest price.\n",
        "\n",
        "6.CNG Fueltype cars of higher age compaire to petrol Diesel.\n",
        "\n",
        "7.Most of the cars works on petrol as a Fueltype.\n",
        "\n",
        "8.Only Petrol FuelType Cars are having Automatic Gear Box.\n",
        "\n",
        "9.Diesel & CNG Fueltype cars are having Manual Gear Box.\n",
        "\n",
        "10.Nearly 75% of cars are having prize less than 13000 euros."
      ],
      "metadata": {
        "id": "_JC9VQ6ggOES"
      }
    }
  ]
}